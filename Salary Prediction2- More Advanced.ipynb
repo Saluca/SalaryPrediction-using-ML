{
 "cells": [
  {
   "cell_type": "code",
   "execution_count": 2,
   "id": "5db05d09",
   "metadata": {},
   "outputs": [],
   "source": [
    "import pandas as pd\n",
    "import numpy as np\n",
    "from sklearn.linear_model import LinearRegression\n",
    "from sklearn.model_selection import train_test_split\n",
    "from sklearn.metrics import mean_absolute_percentage_error as mape"
   ]
  },
  {
   "cell_type": "code",
   "execution_count": 3,
   "id": "8c1561d7",
   "metadata": {},
   "outputs": [],
   "source": [
    "data = pd.read_csv('data.csv')"
   ]
  },
  {
   "cell_type": "markdown",
   "id": "7dad057e",
   "metadata": {},
   "source": [
    "# STAGE 3"
   ]
  },
  {
   "cell_type": "markdown",
   "id": "00438f07",
   "metadata": {},
   "source": [
    "Create DataFrame with predictors and a series with a target. For predictors, drop target variable from the data. All other variables stay unchanged"
   ]
  },
  {
   "cell_type": "code",
   "execution_count": 4,
   "id": "bc96ef28",
   "metadata": {},
   "outputs": [],
   "source": [
    "X = data.drop(columns=['salary'])\n",
    "y = data['salary']"
   ]
  },
  {
   "cell_type": "markdown",
   "id": "04411c25",
   "metadata": {},
   "source": [
    "Splitting data into test and train sets"
   ]
  },
  {
   "cell_type": "code",
   "execution_count": 5,
   "id": "2dcd1aa8",
   "metadata": {},
   "outputs": [],
   "source": [
    "X_train, X_test, y_train, y_test = train_test_split(X, y, test_size=0.3, random_state=100)"
   ]
  },
  {
   "cell_type": "markdown",
   "id": "35cccd2d",
   "metadata": {},
   "source": [
    "Fitting the model to predict salary based on all other variables, as opposed to just rating "
   ]
  },
  {
   "cell_type": "code",
   "execution_count": 6,
   "id": "f756e0ba",
   "metadata": {},
   "outputs": [
    {
     "name": "stdout",
     "output_type": "stream",
     "text": [
      "1187791.2641789436,246170.1790599436,430020.2213681231,182762.6127964016,-87689.5852029371\n"
     ]
    }
   ],
   "source": [
    "model = LinearRegression()\n",
    "model.fit(X_train, y_train)\n",
    "print(','.join(map(str, model.coef_)))"
   ]
  },
  {
   "cell_type": "markdown",
   "id": "94c7a345",
   "metadata": {},
   "source": [
    "# STAGE 4"
   ]
  },
  {
   "cell_type": "markdown",
   "id": "1cfca08a",
   "metadata": {},
   "source": [
    "If you have a linear regression with many variables, some of them may be correlated. This way, the performance of the model may decrease. A crucial step is to check the model for multicollinearity and exclude the variables with a strong correlation with other variables. Carry out this check, find the best model by removing the variables with high correlation, and return its MAPE score"
   ]
  },
  {
   "cell_type": "markdown",
   "id": "57f8970d",
   "metadata": {},
   "source": [
    "Correlation matrix for variables"
   ]
  },
  {
   "cell_type": "code",
   "execution_count": 7,
   "id": "0a2acb80",
   "metadata": {},
   "outputs": [
    {
     "name": "stdout",
     "output_type": "stream",
     "text": [
      "               rating    salary  draft_round       age  experience       bmi\n",
      "rating       1.000000  0.810271     0.008064  0.292463    0.416545  0.077345\n",
      "salary       0.810271  1.000000     0.003875  0.442715    0.532065  0.036957\n",
      "draft_round  0.008064  0.003875     1.000000 -0.081857   -0.055498  0.047742\n",
      "age          0.292463  0.442715    -0.081857  1.000000    0.920067  0.086477\n",
      "experience   0.416545  0.532065    -0.055498  0.920067    1.000000  0.070941\n",
      "bmi          0.077345  0.036957     0.047742  0.086477    0.070941  1.000000\n"
     ]
    }
   ],
   "source": [
    "correlation_matrix = data.corr()\n",
    "print(correlation_matrix)"
   ]
  },
  {
   "cell_type": "markdown",
   "id": "ee2cf743",
   "metadata": {},
   "source": [
    "Find variables with a corellation coefficient greater than 0.2"
   ]
  },
  {
   "cell_type": "code",
   "execution_count": 8,
   "id": "0ed3639e",
   "metadata": {},
   "outputs": [
    {
     "name": "stdout",
     "output_type": "stream",
     "text": [
      "['rating', 'salary', 'age', 'experience']\n"
     ]
    }
   ],
   "source": [
    "high_correlation_vars = correlation_matrix.index[correlation_matrix['salary'] > 0.2].tolist()\n",
    "print(high_correlation_vars)"
   ]
  },
  {
   "cell_type": "markdown",
   "id": "6c1447da",
   "metadata": {},
   "source": [
    "Creating training and test sets and a evaluate model function"
   ]
  },
  {
   "cell_type": "code",
   "execution_count": 9,
   "id": "31ed23bc",
   "metadata": {},
   "outputs": [],
   "source": [
    "X = data.drop(columns=['salary','draft_round','bmi'],axis=1) # Dropping target and low correlation variables\n",
    "y = data[['salary']].values\n",
    "def evaluate_model(X, y):\n",
    "    X_train, X_test, y_train, y_test = train_test_split(X, y, test_size=0.3, random_state=100)\n",
    "    model = LinearRegression()\n",
    "    model.fit(X_train, y_train)\n",
    "    y_pred = model.predict(X_test)\n",
    "    mape_calculation = round(mape(y_test, y_pred), 5)\n",
    "    return mape_calculation"
   ]
  },
  {
   "cell_type": "markdown",
   "id": "d7d741fd",
   "metadata": {},
   "source": [
    "Fit the linear models for salary prediction based on the subsets of other variables. The subsets are as follows:\n",
    "First, try to remove each of the three variables found in correlation matrix\n",
    "Second, remove each possible pair of these three variables.\n",
    "\n",
    "For example, if you have found out that the highly correlated variables are a, b, and c, then first you fit a model where a is removed, then a model without b, and then the model without c. After this, you estimate the model without both a and b, then without both b and c, and last, without both a and c. As a result, you will have six models to choose the best from."
   ]
  },
  {
   "cell_type": "markdown",
   "id": "0b9c42a9",
   "metadata": {},
   "source": [
    "Creating required subsets of variable combinations"
   ]
  },
  {
   "cell_type": "code",
   "execution_count": 10,
   "id": "3c79d65b",
   "metadata": {},
   "outputs": [],
   "source": [
    "feature_sets = {\n",
    "    'Full set': X,\n",
    "    'No Age': X.drop(columns=['age']),\n",
    "    'No Experience': X.drop(columns=['experience']),\n",
    "    'No Rating': X.drop(columns=['rating']),\n",
    "    'No Age and Experience': X.drop(columns=['age', 'experience']),\n",
    "    'No Experience and Rating': X.drop(columns=['experience', 'rating']),\n",
    "    'No Age and Rating': X.drop(columns=['age', 'rating'])\n",
    "}"
   ]
  },
  {
   "cell_type": "markdown",
   "id": "590a3702",
   "metadata": {},
   "source": [
    "Make predictions and print the lowest MAPE. The MAPE is a floating number rounded to five decimal places"
   ]
  },
  {
   "cell_type": "code",
   "execution_count": 11,
   "id": "de326a11",
   "metadata": {},
   "outputs": [
    {
     "name": "stdout",
     "output_type": "stream",
     "text": [
      "1.21816\n"
     ]
    }
   ],
   "source": [
    "# Dictionary to store MAPE results\n",
    "mape_results = {}\n",
    "# Loop through the feature sets and compute the model and MAPE for each\n",
    "for model_name, X_features in feature_sets.items():\n",
    "    model = LinearRegression().fit(X_features, y)  # Fit the model\n",
    "    y_pred = model.predict(X_features)  # Predict the values\n",
    "    mape_results[model_name] = mape(y, y_pred)  # Store MAPE result\n",
    "# print(mape_results)\n",
    "min_mape = min(mape_results.values())\n",
    "print(round(min_mape,5))"
   ]
  },
  {
   "cell_type": "markdown",
   "id": "d19b4610",
   "metadata": {},
   "source": [
    "# STAGE 5 - Dealing with negative predictions"
   ]
  },
  {
   "cell_type": "markdown",
   "id": "2d77e455",
   "metadata": {},
   "source": [
    "As predictors select those variables that gave the best metric in the previous stage 4. Make X a DataFrame with predictors and y a series with a target. To make X, drop target variable from the data"
   ]
  },
  {
   "cell_type": "code",
   "execution_count": 12,
   "id": "dd2ed2df",
   "metadata": {},
   "outputs": [],
   "source": [
    "X = data.drop(columns=['salary', 'age', 'experience'],axis=1) \n",
    "y = data[['salary']].values\n",
    "# print(X_best)\n",
    "# print(y)"
   ]
  },
  {
   "cell_type": "markdown",
   "id": "f5ebf7d6",
   "metadata": {},
   "source": [
    "Split predictors and the target into train and test parts. Use test_size=0.3 and random_state=100 — they guarantee that the results will be the same as the test system expects."
   ]
  },
  {
   "cell_type": "code",
   "execution_count": 20,
   "id": "e01c9a6e",
   "metadata": {},
   "outputs": [],
   "source": [
    "X_train, X_test, y_train, y_test = train_test_split(X, y, test_size=0.3, random_state=100)\n",
    "linearModel = LinearRegression()\n",
    "linearModel.fit(X_train, y_train)\n",
    "predicted_salaries = linearModel.predict(X_test)\n",
    "# print(predicted_salaries)"
   ]
  },
  {
   "cell_type": "markdown",
   "id": "d03ca56e",
   "metadata": {},
   "source": [
    "Try two techniques to deal with negative predictions:\n",
    "1.Replace the negative values with 0.\n",
    "2.Replace the negative values with the median of the training part of y."
   ]
  },
  {
   "cell_type": "code",
   "execution_count": 22,
   "id": "45110494",
   "metadata": {},
   "outputs": [],
   "source": [
    "zero_replace = np.where(predicted_salaries < 0, 0, predicted_salaries)\n",
    "median_y_train = np.median(predicted_salaries)\n",
    "median_replace = np.where(predicted_salaries < 0, median_y_train, predicted_salaries)"
   ]
  },
  {
   "cell_type": "markdown",
   "id": "21997181",
   "metadata": {},
   "source": [
    "Calculate the MAPE for every two options and print the best as a floating number rounded to five decimal places."
   ]
  },
  {
   "cell_type": "code",
   "execution_count": 23,
   "id": "6942cd09",
   "metadata": {},
   "outputs": [
    {
     "name": "stdout",
     "output_type": "stream",
     "text": [
      "0.94701\n"
     ]
    }
   ],
   "source": [
    "mape_zero_replace = float(mape(y_test, zero_replace).round(5))\n",
    "mape_median_replace = float(mape(y_test, median_replace).round(5))\n",
    "print(min(mape_zero_replace,mape_median_replace))"
   ]
  }
 ],
 "metadata": {
  "kernelspec": {
   "display_name": "Python 3 (ipykernel)",
   "language": "python",
   "name": "python3"
  },
  "language_info": {
   "codemirror_mode": {
    "name": "ipython",
    "version": 3
   },
   "file_extension": ".py",
   "mimetype": "text/x-python",
   "name": "python",
   "nbconvert_exporter": "python",
   "pygments_lexer": "ipython3",
   "version": "3.10.9"
  }
 },
 "nbformat": 4,
 "nbformat_minor": 5
}

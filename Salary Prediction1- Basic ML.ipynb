{
 "cells": [
  {
   "cell_type": "code",
   "execution_count": 23,
   "id": "c6a8f93d",
   "metadata": {},
   "outputs": [],
   "source": [
    "import pandas as pd\n",
    "from sklearn.linear_model import LinearRegression\n",
    "from sklearn.model_selection import train_test_split\n",
    "from sklearn.metrics import mean_absolute_percentage_error as mape\n",
    "\n",
    "import matplotlib.pyplot as plt\n",
    "import numpy as np"
   ]
  },
  {
   "cell_type": "code",
   "execution_count": 12,
   "id": "d1770ec5",
   "metadata": {},
   "outputs": [],
   "source": [
    "data = pd.read_csv('data.csv')"
   ]
  },
  {
   "cell_type": "markdown",
   "id": "9c37c731",
   "metadata": {},
   "source": [
    "# STAGE 1"
   ]
  },
  {
   "cell_type": "markdown",
   "id": "23f3c734",
   "metadata": {},
   "source": [
    "Simple linear regression to predict salary based on player rating"
   ]
  },
  {
   "cell_type": "markdown",
   "id": "7dc05d6f",
   "metadata": {},
   "source": [
    "Create X dataframe with 'rating' column as my predictor variable and a y target 'salary'"
   ]
  },
  {
   "cell_type": "code",
   "execution_count": 13,
   "id": "b95d84e1",
   "metadata": {},
   "outputs": [],
   "source": [
    "X = data[['rating']]\n",
    "y = data['salary']"
   ]
  },
  {
   "cell_type": "markdown",
   "id": "2bf1acbd",
   "metadata": {},
   "source": [
    "Split data into training and testing sets"
   ]
  },
  {
   "cell_type": "code",
   "execution_count": 14,
   "id": "3cd273f3",
   "metadata": {},
   "outputs": [],
   "source": [
    "X_train, X_test, y_train, y_test = train_test_split(X, y, test_size=0.3, random_state=100)"
   ]
  },
  {
   "cell_type": "markdown",
   "id": "bf46b875",
   "metadata": {},
   "source": [
    "I will fit a linear regression model on the training set using salary ~ rating"
   ]
  },
  {
   "cell_type": "code",
   "execution_count": 15,
   "id": "04725a57",
   "metadata": {
    "scrolled": true
   },
   "outputs": [
    {
     "data": {
      "text/html": [
       "<style>#sk-container-id-2 {color: black;background-color: white;}#sk-container-id-2 pre{padding: 0;}#sk-container-id-2 div.sk-toggleable {background-color: white;}#sk-container-id-2 label.sk-toggleable__label {cursor: pointer;display: block;width: 100%;margin-bottom: 0;padding: 0.3em;box-sizing: border-box;text-align: center;}#sk-container-id-2 label.sk-toggleable__label-arrow:before {content: \"▸\";float: left;margin-right: 0.25em;color: #696969;}#sk-container-id-2 label.sk-toggleable__label-arrow:hover:before {color: black;}#sk-container-id-2 div.sk-estimator:hover label.sk-toggleable__label-arrow:before {color: black;}#sk-container-id-2 div.sk-toggleable__content {max-height: 0;max-width: 0;overflow: hidden;text-align: left;background-color: #f0f8ff;}#sk-container-id-2 div.sk-toggleable__content pre {margin: 0.2em;color: black;border-radius: 0.25em;background-color: #f0f8ff;}#sk-container-id-2 input.sk-toggleable__control:checked~div.sk-toggleable__content {max-height: 200px;max-width: 100%;overflow: auto;}#sk-container-id-2 input.sk-toggleable__control:checked~label.sk-toggleable__label-arrow:before {content: \"▾\";}#sk-container-id-2 div.sk-estimator input.sk-toggleable__control:checked~label.sk-toggleable__label {background-color: #d4ebff;}#sk-container-id-2 div.sk-label input.sk-toggleable__control:checked~label.sk-toggleable__label {background-color: #d4ebff;}#sk-container-id-2 input.sk-hidden--visually {border: 0;clip: rect(1px 1px 1px 1px);clip: rect(1px, 1px, 1px, 1px);height: 1px;margin: -1px;overflow: hidden;padding: 0;position: absolute;width: 1px;}#sk-container-id-2 div.sk-estimator {font-family: monospace;background-color: #f0f8ff;border: 1px dotted black;border-radius: 0.25em;box-sizing: border-box;margin-bottom: 0.5em;}#sk-container-id-2 div.sk-estimator:hover {background-color: #d4ebff;}#sk-container-id-2 div.sk-parallel-item::after {content: \"\";width: 100%;border-bottom: 1px solid gray;flex-grow: 1;}#sk-container-id-2 div.sk-label:hover label.sk-toggleable__label {background-color: #d4ebff;}#sk-container-id-2 div.sk-serial::before {content: \"\";position: absolute;border-left: 1px solid gray;box-sizing: border-box;top: 0;bottom: 0;left: 50%;z-index: 0;}#sk-container-id-2 div.sk-serial {display: flex;flex-direction: column;align-items: center;background-color: white;padding-right: 0.2em;padding-left: 0.2em;position: relative;}#sk-container-id-2 div.sk-item {position: relative;z-index: 1;}#sk-container-id-2 div.sk-parallel {display: flex;align-items: stretch;justify-content: center;background-color: white;position: relative;}#sk-container-id-2 div.sk-item::before, #sk-container-id-2 div.sk-parallel-item::before {content: \"\";position: absolute;border-left: 1px solid gray;box-sizing: border-box;top: 0;bottom: 0;left: 50%;z-index: -1;}#sk-container-id-2 div.sk-parallel-item {display: flex;flex-direction: column;z-index: 1;position: relative;background-color: white;}#sk-container-id-2 div.sk-parallel-item:first-child::after {align-self: flex-end;width: 50%;}#sk-container-id-2 div.sk-parallel-item:last-child::after {align-self: flex-start;width: 50%;}#sk-container-id-2 div.sk-parallel-item:only-child::after {width: 0;}#sk-container-id-2 div.sk-dashed-wrapped {border: 1px dashed gray;margin: 0 0.4em 0.5em 0.4em;box-sizing: border-box;padding-bottom: 0.4em;background-color: white;}#sk-container-id-2 div.sk-label label {font-family: monospace;font-weight: bold;display: inline-block;line-height: 1.2em;}#sk-container-id-2 div.sk-label-container {text-align: center;}#sk-container-id-2 div.sk-container {/* jupyter's `normalize.less` sets `[hidden] { display: none; }` but bootstrap.min.css set `[hidden] { display: none !important; }` so we also need the `!important` here to be able to override the default hidden behavior on the sphinx rendered scikit-learn.org. See: https://github.com/scikit-learn/scikit-learn/issues/21755 */display: inline-block !important;position: relative;}#sk-container-id-2 div.sk-text-repr-fallback {display: none;}</style><div id=\"sk-container-id-2\" class=\"sk-top-container\"><div class=\"sk-text-repr-fallback\"><pre>LinearRegression()</pre><b>In a Jupyter environment, please rerun this cell to show the HTML representation or trust the notebook. <br />On GitHub, the HTML representation is unable to render, please try loading this page with nbviewer.org.</b></div><div class=\"sk-container\" hidden><div class=\"sk-item\"><div class=\"sk-estimator sk-toggleable\"><input class=\"sk-toggleable__control sk-hidden--visually\" id=\"sk-estimator-id-2\" type=\"checkbox\" checked><label for=\"sk-estimator-id-2\" class=\"sk-toggleable__label sk-toggleable__label-arrow\">LinearRegression</label><div class=\"sk-toggleable__content\"><pre>LinearRegression()</pre></div></div></div></div></div>"
      ],
      "text/plain": [
       "LinearRegression()"
      ]
     },
     "execution_count": 15,
     "metadata": {},
     "output_type": "execute_result"
    }
   ],
   "source": [
    "model = LinearRegression()\n",
    "model.fit(X_train, y_train)"
   ]
  },
  {
   "cell_type": "markdown",
   "id": "f506d03d",
   "metadata": {},
   "source": [
    "Visualising the model/relationship"
   ]
  },
  {
   "cell_type": "code",
   "execution_count": 31,
   "id": "2caabc49",
   "metadata": {},
   "outputs": [
    {
     "data": {
      "image/png": "[encoded data removed]",
      "text/plain": [
       "<Figure size 640x480 with 1 Axes>"
      ]
     },
     "metadata": {},
     "output_type": "display_data"
    }
   ],
   "source": [
    "plt.scatter(X_test,y_test, color=\"blue\")\n",
    "plt.plot(X_test, y_pred, color=\"red\", linewidth=3)\n",
    "plt.xlabel(\"Rating\", fontweight=\"bold\")\n",
    "plt.ylabel(\"Salary\", fontweight=\"bold\")\n",
    "plt.title('Salary and Rating relationship')\n",
    "plt.xticks(())\n",
    "plt.yticks(())\n",
    "plt.show()"
   ]
  },
  {
   "cell_type": "markdown",
   "id": "37717969",
   "metadata": {},
   "source": [
    "Predict salary and calculate the MAPE"
   ]
  },
  {
   "cell_type": "code",
   "execution_count": 16,
   "id": "856ebe5b",
   "metadata": {},
   "outputs": [],
   "source": [
    "y_pred = model.predict(X_test)\n",
    "mape_calculation = round(mape(y_test, y_pred),5)\n",
    "model_intercept = model.intercept_\n",
    "coef = model.coef_[0]"
   ]
  },
  {
   "cell_type": "markdown",
   "id": "15463d77",
   "metadata": {},
   "source": [
    "Print three float numbers: the model intercept, the slope, and the MAPE rounded to five decimal places and separated by whitespace."
   ]
  },
  {
   "cell_type": "code",
   "execution_count": 17,
   "id": "ecad2296",
   "metadata": {},
   "outputs": [
    {
     "name": "stdout",
     "output_type": "stream",
     "text": [
      "-92394937.42462 1322928.79254 1.20990\n"
     ]
    }
   ],
   "source": [
    "print(f\"{model_intercept:.5f} {coef:.5f} {mape_calculation:.5f}\")"
   ]
  },
  {
   "cell_type": "markdown",
   "id": "9e3a1433",
   "metadata": {},
   "source": [
    "# STAGE 2\n"
   ]
  },
  {
   "cell_type": "markdown",
   "id": "50295b3c",
   "metadata": {},
   "source": [
    "Because in stage 1 the relationship between salary and rating looks more polynomial than linear we will raise the rating to see if scores improve."
   ]
  },
  {
   "cell_type": "markdown",
   "id": "82d565aa",
   "metadata": {},
   "source": [
    "New step  -  Raise predictor to the power of 2,3 and 4. Will define a function for evaluating the model"
   ]
  },
  {
   "cell_type": "code",
   "execution_count": 18,
   "id": "00a35a17",
   "metadata": {},
   "outputs": [],
   "source": [
    "values = []\n",
    "def evaluate_model(X,y):\n",
    "    X_train, X_test, y_train, y_test = train_test_split(X, y, test_size=0.3, random_state=100)\n",
    "    model = LinearRegression()\n",
    "    model.fit(X_train, y_train)\n",
    "    y_pred = model.predict(X_test)\n",
    "    mape_calculation = round(mape(y_test, y_pred), 5)\n",
    "    return mape_calculation"
   ]
  },
  {
   "cell_type": "code",
   "execution_count": 30,
   "id": "90d92aef",
   "metadata": {},
   "outputs": [],
   "source": [
    "X_power_2 = X**2\n",
    "values.append(evaluate_model(X_power_2, y))\n",
    "\n",
    "X_power_3 = X**3\n",
    "values.append(evaluate_model(X_power_3, y))\n",
    "\n",
    "X_power_4 = X**4\n",
    "values.append(evaluate_model(X_power_4, y))"
   ]
  },
  {
   "cell_type": "markdown",
   "id": "2d25d0f7",
   "metadata": {},
   "source": [
    "Print smallest MAPE, because the lower the MAPE value the better the model performance, as MAPE is a loss function"
   ]
  },
  {
   "cell_type": "code",
   "execution_count": 20,
   "id": "53a032b3",
   "metadata": {},
   "outputs": [
    {
     "name": "stdout",
     "output_type": "stream",
     "text": [
      "0.94182\n"
     ]
    }
   ],
   "source": [
    "print(min(values))"
   ]
  }
 ],
 "metadata": {
  "kernelspec": {
   "display_name": "Python 3 (ipykernel)",
   "language": "python",
   "name": "python3"
  },
  "language_info": {
   "codemirror_mode": {
    "name": "ipython",
    "version": 3
   },
   "file_extension": ".py",
   "mimetype": "text/x-python",
   "name": "python",
   "nbconvert_exporter": "python",
   "pygments_lexer": "ipython3",
   "version": "3.10.9"
  }
 },
 "nbformat": 4,
 "nbformat_minor": 5
}
